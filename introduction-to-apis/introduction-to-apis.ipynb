{
  "cells": [
    {
      "attachments": {},
      "cell_type": "markdown",
      "metadata": {
        "id": "ieuYQSxt81Pk"
      },
      "source": [
        "# The NHSX Analytics Unit introduction to Python Session 3\n",
        "\n",
        "---\n",
        "\n",
        "[![Open In Colab](https://colab.research.google.com/assets/colab-badge.svg)](https://colab.research.google.com/github/nhs-pycom/coding-club/blob/main/introduction-to-apis/introduction-to-apis.ipynb)\n",
        "\n",
        "This article was very useful and recommended - https://realpython.com/python-api/"
      ]
    },
    {
      "cell_type": "markdown",
      "metadata": {
        "id": "t4INx0Hl81Pq"
      },
      "source": [
        "Application Programming Interface (APIs) allow different systems to exchange (send or recieve) data. This could be used to automatically update a record/database or to send a data extract.\n",
        "\n",
        "Currently, APIs are mostly used in software/app development to pass data and messages smoothly.  They also allow granular access to many large databases for analytical exploration.  However, in my experience these are often databases that are well managed and accessible already so often the API work loses potency from actual application after training.   This shouldn't deter us as API usage and being a standard way of accessing data is on the rise across government and in the NHS.  In paricular, NHSX should be leading on the call for more accessible data through APIs and so understanding how to build and use these is important.  \n",
        "\n",
        "## Example well-known APIs\n",
        "\n",
        "APIs are all around us but often hidden away doing the legwork to make smooth data flows e.g. weather apps on your phone, paypal, and loggin through google all use APIs.\n",
        "\n",
        "![Commonly used APIs](https://github.com/nhs-pycom/coding-club-apis/blob/main/images/commonUses.png?raw=1)\n",
        "\n",
        "Take a look at:\n",
        "\n",
        "- https://any-api.com/\n",
        "- https://github.com/public-apis/public-apis (note: US focussed)\n",
        "\n",
        "**Top 50 most used APIs** *(accoriding to rapidaPIs.com in April 2021)*\n",
        "\n",
        "Many of these enable websites and apps to quickly updated to latest information based on a search criteria or location (excet #13)\n",
        "\n",
        "1. Skyscanner Flight Search\n",
        "\n",
        "2. Open Weather Map\n",
        "\n",
        "3. API-FOOTBALL\n",
        "\n",
        "4. The Cocktail DB\n",
        "\n",
        "5. REST Countries v1\n",
        "\n",
        "6. Yahoo Finance\n",
        "\n",
        "7. Love Calculator\n",
        "\n",
        "8. URL Shortener Service\n",
        "\n",
        "9. NasaAPI\n",
        "\n",
        "10. Numbers\n",
        "\n",
        "11. musiXmatch\n",
        "\n",
        "12. SYSTRAN.io – Translation and NLP\n",
        "\n",
        "13. Chuck Norris\n",
        "\n",
        "14. Hearthstone\n",
        "\n",
        "15. Currency Exchange\n",
        "\n",
        "16. Breaking News\n",
        "\n",
        "17. Booking\n",
        "\n",
        "18. Free NBA\n",
        "\n",
        "19. Deezer\n",
        "\n",
        "20. Email Validator\n",
        "\n",
        "21. Urban Dictionary\n",
        "\n",
        "22. Pokemon Go\n",
        "\n",
        "23. Recipe – Food – Nutrition\n",
        "\n",
        "24. Investors Exchange (IEX) Trading\n",
        "\n",
        "25. Movie Database (IMDB Alternative)\n",
        "\n",
        "\n",
        "** Healthcare APIs **\n",
        "\n",
        "The lists I found on whilst searching github and google are mainly US based.  NHS Digitial has a range of APIs available listed here: https://digital.nhs.uk/developer/api-catalogue.  Many of these are to do with passing secure records between services and the security around these.  \n"
      ]
    },
    {
      "cell_type": "markdown",
      "metadata": {
        "id": "7NJIo2t081Pr"
      },
      "source": [
        "## Types of API \n",
        "\n",
        "There are four common;y used API types:\n",
        "\n",
        "- Open/External/Public: Can be either completely open or require an API key\n",
        "- Internal: Hidden from external uses\n",
        "- Partner: Similar to Open APIs but use a third-party API gateway to manage access\n",
        "- Composite: Access to several end points at once (useful for dev)\n",
        "\n",
        "There are three standat sets of rules (Protocls) commonly used:\n",
        "\n",
        "- REST\n",
        "- RPC\n",
        "- SOAP\n",
        "- GraphQL (created by facebook)\n",
        "See here for more info: https://apifriends.com/api-creation/different-types-apis/ & https://www.altexsoft.com/blog/soap-vs-rest-vs-graphql-vs-rpc/\n",
        "\n",
        "Today we will focus on REST APIs"
      ]
    },
    {
      "cell_type": "markdown",
      "metadata": {
        "id": "AOl3RJJB81Ps"
      },
      "source": [
        "### REST API - Terminology\n",
        "\n",
        "![Terminology](https://github.com/nhs-pycom/coding-club-apis/blob/main/images/terminology.png?raw=1)\n",
        "\n",
        "The API itself defines accessible endpoints and valid request and response formats"
      ]
    },
    {
      "cell_type": "markdown",
      "metadata": {
        "id": "kyvmOtA481Ps"
      },
      "source": [
        "### REST API Commands\n",
        "\n",
        "- POST - Create\n",
        "- GET - Read\n",
        "- PUT - Update\n",
        "- DELETE - DELETE\n",
        "\n",
        "*note: There are others not covered here*"
      ]
    },
    {
      "cell_type": "markdown",
      "metadata": {
        "id": "4zmfuik381Ps"
      },
      "source": [
        "## Benefits of APIs\n",
        "\n",
        "- Security for underlying database\n",
        "- Consistency of output\n",
        "- Separate frontend fram backend allows for interoperability\n",
        "- Development without disruption or releases\n",
        "\n",
        "https://www.england.nhs.uk/publication/open-api-architecture-policy/\n",
        "\n",
        "### Side note on http vs https\n",
        "Whilst most endpoints are https some are still http.  Note that https is the encrypted version for http communication.  Never send any sensitive or work data over a http connection."
      ]
    },
    {
      "cell_type": "markdown",
      "metadata": {
        "id": "H-nxDk2R81Ps"
      },
      "source": [
        "## JSON format\n",
        "\n",
        "The response most commonly comes in java script object notation (JSON).  This is a hierarchical list of key-value pairs similar to a Python dictionary.\n",
        "\n"
      ]
    },
    {
      "cell_type": "code",
      "execution_count": null,
      "metadata": {
        "id": "hrGnenD481Pt"
      },
      "outputs": [],
      "source": [
        "#Example JSON layout\n",
        " \n",
        "# {\n",
        "#     \"firstName\": \"Duke\",\n",
        "#     \"lastnName\": \"Java\",\n",
        "#     \"age\": 18,\n",
        "#     \"streetAddress\": \"100 Internet Dr\",\n",
        "#     \"city\": :\"JavaTown\",\n",
        "#     \"state\": \"JA\",\n",
        "#     \"postalCode\": \"12345\",\n",
        "#     \"phoneNumbers\": [\n",
        "#         { \"Mobile\": \"111-111-1111\" },\n",
        "#         {\"Home\": \"222-222-2222\" }\n",
        "#     ]\n",
        "# }"
      ]
    },
    {
      "cell_type": "markdown",
      "metadata": {
        "id": "ksDcZFQz81Pt"
      },
      "source": [
        "- An set of key-value pairs is called an object.\n",
        "\n",
        "- Within an object one key can have an array of sub key-values pairs.\n",
        "\n",
        "    - {} enclose objects\n",
        "    - , separate pairs within an object \n",
        "    - : separating keys and values\n",
        "    - [] enclose arrays\n",
        "\n",
        "- Objects can contain arrays which in turn can contain further objects or arrays and so on.  This means that we can end up with fairly complex tree structures. \n"
      ]
    },
    {
      "cell_type": "markdown",
      "metadata": {
        "id": "AEsA3UxqrEBa"
      },
      "source": [
        "# Practical\n",
        "\n",
        "\n",
        "Steps: \n",
        "\n",
        "- Choose the API to work with\n",
        "- Read the API documentation (this takes the most time)\n",
        "- Start with small code, and complement it with more features.\n",
        "\n",
        "Python has a few libraries used for interacting with APIs such as requests, pycurl, urllib and postman.   I find requests to be the easiest to start with however postman is good for testing estahblish APIs and good to read up on. \n",
        "\n",
        "Using the Python request package the code required is minimal (especially compared to other languages such as java).  We will also beed to import json and pprint to view the responses in a readable format. "
      ]
    },
    {
      "cell_type": "code",
      "execution_count": null,
      "metadata": {
        "id": "LCwtWKXxvk28"
      },
      "outputs": [],
      "source": [
        "import requests\n",
        "import json\n",
        "import pprint"
      ]
    },
    {
      "cell_type": "markdown",
      "metadata": {
        "id": "hVQlvgryvL8p"
      },
      "source": [
        "## Task 1: Find the ISS and who is currently in it\n",
        "*from https://medium.com/quick-code/absolute-beginners-guide-to-slaying-apis-using-python-7b380dc82236*"
      ]
    },
    {
      "cell_type": "code",
      "execution_count": null,
      "metadata": {
        "id": "HHefhSEDvTFF"
      },
      "outputs": [],
      "source": [
        "request = requests.get('http://api.open-notify.org/iss-now.json')\n",
        "print(request.status_code)"
      ]
    },
    {
      "cell_type": "markdown",
      "metadata": {
        "id": "2XbIwRSBw5J2"
      },
      "source": [
        "If a request returns a status code 200 then everything is OK, if it returns 404 then the page or resource was not found.\n",
        "\n",
        "**Status code**\n",
        "- 200 \"OK\"\tYour request was successful!\n",
        "- 201 \"Created\"\tYour request was accepted and the resource was created.\n",
        "- 400 \"Bad Request\"\tYour request is either wrong or missing some information.\n",
        "- 401 \"Unauthorized\"\tYour request requires some additional permissions.\n",
        "- 404 \"Not Found\"\tThe requested resource does not exist.\n",
        "- 405 \"Method Not Allowed\"\tThe endpoint does not allow for that specific HTTP method.\n",
        "- 500 \"Internal Server Error\"\tYour request wasn’t expected and probably broke something on the server side.\n",
        "\n",
        "To see the content which has been returned:"
      ]
    },
    {
      "cell_type": "code",
      "execution_count": null,
      "metadata": {
        "id": "z9dvIG9bw6yG"
      },
      "outputs": [],
      "source": [
        "print(request.text)"
      ]
    },
    {
      "cell_type": "code",
      "execution_count": null,
      "metadata": {
        "id": "XvBzNNvhyNNz"
      },
      "outputs": [],
      "source": [
        "print(request.json())"
      ]
    },
    {
      "cell_type": "markdown",
      "metadata": {
        "id": "yS6aWcA1xyHh"
      },
      "source": [
        "To get the latitude and longitude only we can filter by \"iss_position"
      ]
    },
    {
      "cell_type": "code",
      "execution_count": null,
      "metadata": {
        "id": "lK3uIstjx46N"
      },
      "outputs": [],
      "source": [
        "print(request.json()['iss_position'])"
      ]
    },
    {
      "cell_type": "markdown",
      "metadata": {
        "id": "sB5VuBHhywrw"
      },
      "source": [
        "If we wanted we could now combine this with a geocoding API to give a map view.  I haven't done this here as it requires an API key but this is publicaly available if you want a go as a learning exercise. \n",
        "\n",
        "For the moment take a look at the documentation here: http://open-notify.org/Open-Notify-API/People-In-Space/ and spend **5-10 mins** trying to work out who is on the ISS right now."
      ]
    },
    {
      "cell_type": "code",
      "execution_count": null,
      "metadata": {
        "id": "DGEH51tHzT_3"
      },
      "outputs": [],
      "source": [
        "#CODE IN HERE\n",
        "\n",
        "\n"
      ]
    },
    {
      "cell_type": "markdown",
      "metadata": {
        "id": "vfVp-h-BSM--"
      },
      "source": [
        "NASA has some great APIs for instance one which allows the astronomoy picture of the day or Mars rover public images to be requested.  Again these need a free sign-in to get a key before use - https://api.nasa.gov/"
      ]
    },
    {
      "cell_type": "markdown",
      "metadata": {
        "id": "wSNSEIOo81Pu"
      },
      "source": [
        "## Task 2: Search Stackoverflow Questions\n",
        "\n",
        "Lets try a slightly more complicated request now.  This time we will use the API provided by stackoverflow to find relevent questions\n",
        "\n",
        "The API documentation can be found here: https://api.stackexchange.com/docs\n",
        "\n",
        "This time when making the request we want the response to be sorted to our preference and perhaps with specific search criteria.  This can be done through the url in order to reduce the amount of data being requested.  \n",
        "\n",
        "The format for this is the same as for any url search that you may see (for instance when using a google search or scanning through a clickbait article)"
      ]
    },
    {
      "cell_type": "code",
      "execution_count": null,
      "metadata": {
        "id": "W4vWsrzy81Pu"
      },
      "outputs": [],
      "source": [
        "url = 'http://api.stackexchange.com/2.2/questions?order=desc&sort=activity&site=stackoverflow'\n",
        "response = requests.get(url)\n",
        "print(response.status_code)"
      ]
    },
    {
      "cell_type": "markdown",
      "metadata": {
        "id": "xv91_2VpQznR"
      },
      "source": [
        "IT can be useful at times to see the headers of an API request or response.  The headers define a few parameters for what's accepted by the API.  Here we see that the server will only respond to json content, some details around content length and encoding, and lots of other bits and bobs. "
      ]
    },
    {
      "cell_type": "code",
      "execution_count": null,
      "metadata": {
        "id": "blU3iPM8QuHO"
      },
      "outputs": [],
      "source": [
        "print(response.headers)"
      ]
    },
    {
      "cell_type": "markdown",
      "metadata": {
        "id": "N1nyNkxdEMEl"
      },
      "source": [
        "A better way to set up the request is to separate the parameters from the URL so they can be easily changed by a user (e.g. through a GUI)"
      ]
    },
    {
      "cell_type": "code",
      "execution_count": null,
      "metadata": {
        "id": "4i2tYdAkEFDW"
      },
      "outputs": [],
      "source": [
        "url2 = 'http://api.stackexchange.com/2.2/questions'\n",
        "\n",
        "parameters = {\n",
        "    'order':'desc',\n",
        "    'sort':'activity',\n",
        "    'site':'stackoverflow',\n",
        "}\n",
        "\n",
        "response = requests.get(url2, params=parameters)\n",
        "print(response.status_code)"
      ]
    },
    {
      "cell_type": "markdown",
      "metadata": {
        "id": "Jla3YztLGPKo"
      },
      "source": [
        "This should be the same result which you can check if you want!\n",
        "\n",
        "We now want to print out the response and find questions of interest."
      ]
    },
    {
      "cell_type": "code",
      "execution_count": null,
      "metadata": {
        "id": "cNojSxpo81Pv"
      },
      "outputs": [],
      "source": [
        "print(response.json()['items'])"
      ]
    },
    {
      "cell_type": "markdown",
      "metadata": {
        "id": "1gKUosCUxLis"
      },
      "source": [
        "The full JSON requested has been printed.  A nicer way of printing this is to use **pprint**"
      ]
    },
    {
      "cell_type": "code",
      "execution_count": null,
      "metadata": {
        "id": "1m7CzFXAxUyO"
      },
      "outputs": [],
      "source": [
        "pprint.pprint(response.json())"
      ]
    },
    {
      "cell_type": "markdown",
      "metadata": {
        "id": "XDm2WRJ3G2R8"
      },
      "source": [
        "You may have expected more questions to be returned than you'll see here.  The limited number is due to paging.  For stack exchange page starts at and defaults to 1, pagesize can be any value between 0 and 100 and defaults to 30.  There is a section in the stack exchange documentation on paging and how to return total results, but as the reason for paging is not to overload the API, and we dont really need all the results, we'll stick with the defaults.\n",
        "\n",
        "APIs will also limit the rate if requests or \"throttle\" the number of request per second to avoid abuse or overloading.\n",
        "\n",
        "Use a for loop to run through the items and print only those meeting a certain condition"
      ]
    },
    {
      "cell_type": "code",
      "execution_count": null,
      "metadata": {
        "id": "CIK7A0Tl81Pv"
      },
      "outputs": [],
      "source": [
        "term = [\" r \",\" R \", \"python\", \"Python\"]\n",
        "\n",
        "for data in response.json()['items']:\n",
        "  if any(x in data['title'] for x in term):\n",
        "    print(data['title'])\n",
        "    print(data['link'])\n",
        "    print()"
      ]
    },
    {
      "cell_type": "markdown",
      "metadata": {
        "id": "N316Q0fvOM3C"
      },
      "source": [
        "Now try and spend **5-10 mins** attempting to get find the \"answer with the most votes along with the original question\""
      ]
    },
    {
      "cell_type": "code",
      "execution_count": null,
      "metadata": {
        "id": "OHayzT1mOWAw"
      },
      "outputs": [],
      "source": [
        "# CODE IN HERE\n",
        "\n",
        "\n"
      ]
    },
    {
      "cell_type": "markdown",
      "metadata": {
        "id": "vnc67c-NPCsd"
      },
      "source": [
        "If the Stack overflow example was a bit vanilla for you then have a look at https://thedogapi.com/ or https://thecatapi.com/ which I hear are really good examples of well documented APIs.  They do require a sign-up though so I've not touched them here for time."
      ]
    },
    {
      "cell_type": "markdown",
      "metadata": {
        "id": "OjHCoNf6Uh8L"
      },
      "source": [
        "## Task 3: \"Post\" an update\n",
        "\n",
        "Extracting data will be the most common use for data users.  However, it may be useful to also see posting data to a database.\n",
        "\n",
        "For this we need a server to post to.  I'll use requestbin hosted by pipedream for this.  Specifcially, https://requestbin.com/r/encygohnki5lb (note: this probably won't be available after the initial session but it's easy to genereate your own).  Documentation: https://requestbin.com/docs/#examining-requests\n",
        "\n"
      ]
    },
    {
      "cell_type": "code",
      "execution_count": null,
      "metadata": {
        "id": "WuZML2OBSfTe"
      },
      "outputs": [],
      "source": [
        "url_pipedream = \"https://encygohnki5lb.x.pipedream.net/training/AU/\"\n",
        "mydict = {\n",
        "    'fav_film': 'Lethal Weapon',\n",
        "    'fav_scene': 'Woods',\n",
        "          }"
      ]
    },
    {
      "cell_type": "markdown",
      "metadata": {
        "id": "pstS2-t6Fke3"
      },
      "source": [
        "Post your data to the requestbin"
      ]
    },
    {
      "cell_type": "code",
      "execution_count": null,
      "metadata": {
        "id": "wBg3OUMTFk6H"
      },
      "outputs": [],
      "source": [
        "requests.post(url_pipedream, data = mydict)"
      ]
    },
    {
      "cell_type": "markdown",
      "metadata": {
        "id": "sr_zT9wZFuH4"
      },
      "source": [
        "We should now be able to see each of the posts in the requestbin log.  Feel free to have a go at \"GET\"ing the data back again. "
      ]
    },
    {
      "cell_type": "markdown",
      "metadata": {
        "id": "uQMW_Nx0LGAm"
      },
      "source": [
        "# Note on Building an API\n",
        "\n",
        "To make a simple post and request set is fairly straight forwards but developing a fully functioning API which meets all user and REST requirements is a much larger task. \n",
        "\n",
        "Roughly we need to:\n",
        "- create a server or app that can run in a server\n",
        "- define a series of endpoints \n",
        "- for each end point define the GET, POST, PUT, DELETE functions\n",
        "  - GET: This usually consists of converting a datasource into a dictionary that can be returned alongside the code \"200\"\n",
        "  - POST/PUT: This requires a set of required fields to be defined with a series of if statements to check for duplicate or invalid entries. \n",
        "  - DELETE: Required fields and if statements to check the record exists in order to delete it\n",
        "\n",
        "The trouble is that useable datasets have many fields with specificy conditions that need to be met and to make a useful API we would need to define a whole series of endpoints.  Thus maybe more time consuming than difficult. \n",
        "\n",
        "In Python the most common tools used to creat an API are FLASK and Django.  Here is a good walk through to creating an API in Flask - https://towardsdatascience.com/the-right-way-to-build-an-api-with-python-cd08ab285f8f including the repo with the full code - https://gist.github.com/jamescalam/0b309d275999f9df26fa063602753f73\n",
        "\n"
      ]
    }
  ],
  "metadata": {
    "colab": {
      "name": "coding_club_apis.ipynb",
      "provenance": [],
      "toc_visible": true
    },
    "kernelspec": {
      "display_name": "Python 3",
      "language": "python",
      "name": "python3"
    },
    "language_info": {
      "codemirror_mode": {
        "name": "ipython",
        "version": 3
      },
      "file_extension": ".py",
      "mimetype": "text/x-python",
      "name": "python",
      "nbconvert_exporter": "python",
      "pygments_lexer": "ipython3",
      "version": "3.9.10 (main, Mar  9 2022, 20:27:56) \n[Clang 13.0.0 (clang-1300.0.29.30)]"
    },
    "metadata": {
      "interpreter": {
        "hash": "31f2aee4e71d21fbe5cf8b01ff0e069b9275f58929596ceb00d14d90e3e16cd6"
      }
    },
    "orig_nbformat": 2,
    "vscode": {
      "interpreter": {
        "hash": "70a703afd2ea37a8e881037d159474ccbbf41a2efff24854dc382a2b82dfe829"
      }
    }
  },
  "nbformat": 4,
  "nbformat_minor": 0
}
