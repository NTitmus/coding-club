{
 "cells": [
  {
   "attachments": {},
   "cell_type": "markdown",
   "metadata": {},
   "source": [
    "![Coding_Club_Header](../img/coding_club_header_small.png)"
   ]
  },
  {
   "attachments": {},
   "cell_type": "markdown",
   "metadata": {},
   "source": [
    "[![Open In Colab](https://colab.research.google.com/assets/colab-badge.svg)](https://colab.research.google.com/github/nhs-pycom/coding-club/blob/main/introduction-to-networkx/introduction-to-networkx.ipynb)"
   ]
  },
  {
   "cell_type": "code",
   "execution_count": null,
   "metadata": {},
   "outputs": [],
   "source": [
    "!pip install pyvis"
   ]
  },
  {
   "cell_type": "markdown",
   "metadata": {},
   "source": [
    "---\n",
    "---\n",
    "\n",
    "# Coding Club - NetworkX\n",
    "\n",
    "This notebook gives a light and practical introduction to `networkx`\n",
    "\n",
    "- Homepage - https://networkx.org/\n",
    "- Docs - https://networkx.org/documentation/stable/index.html\n",
    "- GitHub - https://github.com/networkx/networkx\n",
    "\n",
    "**\"NetworkX is a Python package for the creation, manipulation, and study of the structure, dynamics, and functions of complex networks\"**\n",
    "\n",
    "## Part 1 - An Introduction\n",
    "\n",
    "Networks (also confusingly called graphs) are a great way to understand how your data is connected.  Networks are built up from `nodes` (sometimes called vertices), and `edges` which connect them.\n",
    "\n",
    "For the first part of the below, we follow the `Tutorial` section of the `networkx` documentation in part - https://networkx.org/documentation/stable/tutorial.html"
   ]
  },
  {
   "cell_type": "code",
   "execution_count": null,
   "metadata": {},
   "outputs": [],
   "source": [
    "from itertools import count\n",
    "from IPython.core.display import display, HTML\n",
    "import matplotlib.pyplot as plt\n",
    "import networkx as nx\n",
    "import pandas as pd\n",
    "from pyvis.network import Network\n",
    "import re\n",
    "\n",
    "print(nx.__version__)"
   ]
  },
  {
   "cell_type": "markdown",
   "metadata": {},
   "source": [
    "---\n",
    "## `Graph` — An undirected graphs (with self loops)\n",
    "\n",
    "https://networkx.org/documentation/stable/reference/classes/graph.html"
   ]
  },
  {
   "cell_type": "code",
   "execution_count": null,
   "metadata": {},
   "outputs": [],
   "source": [
    "# Empty Graph\n",
    "G = nx.Graph()\n",
    "\n",
    "print(G.nodes)\n",
    "print(G.edges)\n",
    "\n",
    "nx.draw(G)"
   ]
  },
  {
   "cell_type": "code",
   "execution_count": null,
   "metadata": {},
   "outputs": [],
   "source": [
    "# In NetworkX, nodes can be any hashable object \n",
    "# e.g., a text string, an image, an XML object, another Graph, a customized node object, etc.\n",
    "\n",
    "# Add a node\n",
    "G.add_node(1)\n",
    "\n",
    "print(G.nodes)\n",
    "print(G.edges)\n",
    "\n",
    "nx.draw(G, with_labels=True)"
   ]
  },
  {
   "cell_type": "code",
   "execution_count": null,
   "metadata": {},
   "outputs": [],
   "source": [
    "# Add an edge - note it automatically adds any nodes not already present\n",
    "G.add_edge(1, 2)\n",
    "\n",
    "print(G.nodes)\n",
    "print(G.edges)\n",
    "\n",
    "nx.draw(G, with_labels=True)"
   ]
  },
  {
   "cell_type": "code",
   "execution_count": null,
   "metadata": {},
   "outputs": [],
   "source": [
    "# Add more than one edge at a time\n",
    "G.add_edges_from([(2, 3), (1, 3)])\n",
    "\n",
    "print(G.nodes)\n",
    "print(G.edges)\n",
    "\n",
    "nx.draw(G, with_labels=True)"
   ]
  },
  {
   "cell_type": "code",
   "execution_count": null,
   "metadata": {},
   "outputs": [],
   "source": [
    "# See the neighbours of a named node\n",
    "list(G.neighbors(1))"
   ]
  },
  {
   "cell_type": "code",
   "execution_count": null,
   "metadata": {},
   "outputs": [],
   "source": [
    "# Access the adjacency matrix describing the graph - this tells us about the connections we have\n",
    "print(nx.adjacency_matrix(G).todense())"
   ]
  },
  {
   "cell_type": "markdown",
   "metadata": {},
   "source": [
    "### Exercise 1:\n",
    "\n",
    "Construct your own network using the `Graph` type above and include a `self-loop` (an `edge` connecting a `node` to itself) - how does this change the `adjacency matrix`?"
   ]
  },
  {
   "cell_type": "code",
   "execution_count": null,
   "metadata": {},
   "outputs": [],
   "source": [
    "### Solution Here\n",
    "#\n",
    "#"
   ]
  },
  {
   "cell_type": "markdown",
   "metadata": {},
   "source": [
    "---\n",
    "## `DiGraph` — A directed graphs (with self loops)\n",
    "\n",
    "https://networkx.org/documentation/stable/reference/classes/digraph.html"
   ]
  },
  {
   "cell_type": "code",
   "execution_count": null,
   "metadata": {},
   "outputs": [],
   "source": [
    "# Empty DiGraph\n",
    "DG = nx.DiGraph()\n",
    "\n",
    "nx.draw(DG)"
   ]
  },
  {
   "cell_type": "code",
   "execution_count": null,
   "metadata": {},
   "outputs": [],
   "source": [
    "# Add a directed edge\n",
    "DG.add_edge(2, 1)\n",
    "\n",
    "print(DG.nodes)\n",
    "print(DG.edges)\n",
    "\n",
    "nx.draw(DG, with_labels=True)"
   ]
  },
  {
   "cell_type": "code",
   "execution_count": null,
   "metadata": {},
   "outputs": [],
   "source": [
    "# Neighbours are now considered as successors as we have direction\n",
    "print(list(DG.successors(1)))\n",
    "print(list(DG.successors(2)))"
   ]
  },
  {
   "cell_type": "code",
   "execution_count": null,
   "metadata": {},
   "outputs": [],
   "source": [
    "# Note - our adjacency matrix is no longer symmetric\n",
    "print(nx.adjacency_matrix(DG).todense())"
   ]
  },
  {
   "cell_type": "code",
   "execution_count": null,
   "metadata": {},
   "outputs": [],
   "source": [
    "# Convert to a `Graph`\n",
    "H = nx.Graph(DG)\n",
    "\n",
    "print(H.nodes)\n",
    "print(H.edges)\n",
    "\n",
    "nx.draw(H, with_labels=True)"
   ]
  },
  {
   "cell_type": "markdown",
   "metadata": {},
   "source": [
    "### Exercise 2:\n",
    "\n",
    "Can you think of an example where using a directed graph would be particularly important?  \n",
    "\n",
    "Try to make a simple example of this using a `DiGraph` - make the nodes labels which are more relevent to your scenario."
   ]
  },
  {
   "cell_type": "code",
   "execution_count": null,
   "metadata": {},
   "outputs": [],
   "source": [
    "### Solution Here\n",
    "#\n",
    "#"
   ]
  },
  {
   "cell_type": "markdown",
   "metadata": {},
   "source": [
    "There are further extensions within `networkx` which can have different types of edges connecting nodes in a parallel fashion:\n",
    "\n",
    "#### `MultiGraph` — Undirected graphs with self loops and parallel edges\n",
    "\n",
    "https://networkx.org/documentation/stable/reference/classes/multigraph.html\n",
    "\n",
    "#### `MultiDiGraph` — Directed graphs with self loops and parallel edges\n",
    "\n",
    "https://networkx.org/documentation/stable/reference/classes/multidigraph.html#"
   ]
  },
  {
   "cell_type": "markdown",
   "metadata": {},
   "source": [
    "## `Weights` (and `Attributes`)\n",
    "We can also attach attributes to `edges` - a fundamental one in `networkx` is an `edge weight` which gives the link an associated value.\n",
    "\n",
    "As a simple example of why this is useful - we could have a case where our `nodes` represent locations of related services, and the `edge` connecting them has a `weight` associated which is the 'as the crow flies' distance."
   ]
  },
  {
   "cell_type": "code",
   "execution_count": null,
   "metadata": {},
   "outputs": [],
   "source": [
    "# Empty Graph\n",
    "WG = nx.Graph()\n",
    "\n",
    "print(WG.nodes)\n",
    "print(WG.edges)\n",
    "\n",
    "nx.draw(WG)"
   ]
  },
  {
   "cell_type": "code",
   "execution_count": null,
   "metadata": {},
   "outputs": [],
   "source": [
    "# Add a weighted edge\n",
    "WG.add_edge(1, 2, weight=0.5)\n",
    "\n",
    "print(WG.nodes)\n",
    "print(WG.edges)\n",
    "\n",
    "labels = nx.get_edge_attributes(WG, 'weight')\n",
    "pos=nx.spring_layout(WG)\n",
    "\n",
    "nx.draw_networkx_edge_labels(\n",
    "    WG, \n",
    "    pos=pos,\n",
    "    edge_labels=labels,\n",
    "    verticalalignment='top'\n",
    ")\n",
    "nx.draw(WG, pos=pos, with_labels=True)"
   ]
  },
  {
   "cell_type": "code",
   "execution_count": null,
   "metadata": {},
   "outputs": [],
   "source": [
    "WG.add_weighted_edges_from(\n",
    "    [\n",
    "        (1, 3, 0.75),\n",
    "        (2, 3, 0.25)\n",
    "    ]\n",
    ")\n",
    "\n",
    "print(WG.nodes)\n",
    "print(WG.edges)\n",
    "\n",
    "labels = nx.get_edge_attributes(WG, 'weight')\n",
    "pos=nx.spring_layout(WG)\n",
    "\n",
    "nx.draw_networkx_edge_labels(\n",
    "    WG, \n",
    "    pos=pos,\n",
    "    edge_labels=labels,\n",
    "    verticalalignment='top'\n",
    ")\n",
    "nx.draw(WG, pos=pos, with_labels=True)"
   ]
  },
  {
   "cell_type": "code",
   "execution_count": null,
   "metadata": {},
   "outputs": [],
   "source": [
    "# Note - our adjacency matrix elements are no longer equal to one\n",
    "print(nx.adjacency_matrix(WG).todense())"
   ]
  },
  {
   "cell_type": "markdown",
   "metadata": {},
   "source": [
    "---\n",
    "## A Quick Aside\n",
    "\n",
    "### There are lots of special 'built-in' networks can be generated easily as well e.g. `Random Lobster`\n",
    "\n",
    "*A lobster is a tree that reduces to a caterpillar when pruning all leaf nodes.* \n",
    "\n",
    "*A caterpillar is a tree that reduces to a path graph when pruning all leaf nodes; setting `p2` to zero produces a caterpillar.*\n",
    "\n",
    "https://networkx.org/documentation/stable/reference/generated/networkx.generators.random_graphs.random_lobster.htm"
   ]
  },
  {
   "cell_type": "code",
   "execution_count": null,
   "metadata": {},
   "outputs": [],
   "source": [
    "LG = nx.random_lobster(\n",
    "        n=3, \n",
    "        p1=0.75, \n",
    "        p2=0.75, \n",
    "        seed=0\n",
    "    )\n",
    "\n",
    "nx.draw(LG, pos=nx.spring_layout(LG))"
   ]
  },
  {
   "cell_type": "markdown",
   "metadata": {},
   "source": [
    "----------\n",
    "----------\n",
    "\n",
    "# Part 2 - An Adventure with a `Knowledge Graph`\n",
    "\n",
    "### What is a Knowledge Graph?\n",
    "\n",
    "*Knowledge graphs (KGs) organise data from multiple sources, capture information about entities of interest in a given domain or task (like people, places or events), and forge connections between them.*\n",
    "\n",
    "https://www.turing.ac.uk/research/interest-groups/knowledge-graphs\n",
    "\n",
    "Here is a healthcare example taken from:\n",
    "\n",
    "**Learning a Health Knowledge Graph from Electronic Medical Records. Nature Scientific Reports, 2017**\n",
    "\n",
    "*Maya Rotmensch, Yoni Halpern, Abdulhakim Tlimat, Steven Horng, and David Sontag.*\n",
    "\n",
    "[Paper](https://www.nature.com/articles/s41598-017-05778-z) | [GitHub](https://github.com/clinicalml/HealthKnowledgeGraph)\n",
    "\n",
    "- A health KG for 157 diseases and 491 symptoms, learned from patients' data using a Noisy-OR Bayesian Network, as described in the paper.  \n",
    "- The scores represent the model's relative confidence that an edge exists between a pair of nodes (here linking symptoms to diseases).\n",
    "\n",
    "Let's see what it looks like!"
   ]
  },
  {
   "cell_type": "markdown",
   "metadata": {},
   "source": [
    "---\n",
    "### Prepare the data"
   ]
  },
  {
   "cell_type": "code",
   "execution_count": null,
   "metadata": {},
   "outputs": [],
   "source": [
    "# Load the data into a DataFrame\n",
    "kg_url = 'https://raw.githubusercontent.com/clinicalml/HealthKnowledgeGraph/master/DerivedKnowledgeGraph_final.csv'\n",
    "\n",
    "df_kg = pd.read_csv(kg_url)\n",
    "df_kg.head()"
   ]
  },
  {
   "cell_type": "code",
   "execution_count": null,
   "metadata": {},
   "outputs": [],
   "source": [
    "# Clean up the symptoms and their scores\n",
    "df_kg['split_symptoms'] = df_kg['Symptoms'].apply(\n",
    "    lambda elem: elem.split(',')\n",
    ")\n",
    "df_kg['split_symptoms'] = df_kg['split_symptoms'].apply(\n",
    "    lambda elem: [(\n",
    "        ent.split('(')[0].strip(), \n",
    "        float(re.search(r'0.\\d{3}', ent)[0])\n",
    "    ) for ent in elem]\n",
    ")\n",
    "\n",
    "df_kg = df_kg.drop('Symptoms', axis=1)\n",
    "print(df_kg.shape)\n",
    "df_kg.head()"
   ]
  },
  {
   "cell_type": "code",
   "execution_count": null,
   "metadata": {},
   "outputs": [],
   "source": [
    "# Make a long form DataFrame ready for our network\n",
    "long_rows = []\n",
    "\n",
    "for n, row in df_kg.iterrows():\n",
    "    new_rows = list(zip(\n",
    "        [\n",
    "            row['Diseases'] for i in range(len(row['split_symptoms']))\n",
    "        ],\n",
    "        [elem[0] for elem in row['split_symptoms']],\n",
    "        [elem[1] for elem in row['split_symptoms']]\n",
    "    ))\n",
    "    \n",
    "    long_rows.extend(new_rows)\n",
    "    \n",
    "df_kg_long = pd.DataFrame(\n",
    "    long_rows, \n",
    "    columns=('disease', 'symptom', 'score')\n",
    ")\n",
    "\n",
    "print(df_kg_long.shape)\n",
    "\n",
    "df_kg_long.head()"
   ]
  },
  {
   "cell_type": "code",
   "execution_count": null,
   "metadata": {},
   "outputs": [],
   "source": [
    "# Check the statistics around the scores\n",
    "df_kg_long['score'].describe()"
   ]
  },
  {
   "cell_type": "code",
   "execution_count": null,
   "metadata": {},
   "outputs": [],
   "source": [
    "# How many symptoms and diseases are there?\n",
    "# Are the diseases and symptoms all different?\n",
    "diseases = set(df_kg_long['disease'].unique())\n",
    "symptoms = set(df_kg_long['symptom'].unique())\n",
    "\n",
    "print(f\"Number of diseases: {len(diseases)}\")\n",
    "print(f\"Number of symptoms: {len(symptoms)}\")\n",
    "\n",
    "print(f\"\\nIntersection of diseases and symptoms:{len(diseases.intersection(symptoms))}\")"
   ]
  },
  {
   "cell_type": "code",
   "execution_count": null,
   "metadata": {
    "scrolled": true
   },
   "outputs": [],
   "source": [
    "# Let's remove the lower scoring edges to reduce the complexity of the network\n",
    "score_lower_bound = 0.275\n",
    "\n",
    "df_most_common = df_kg_long[\n",
    "    (df_kg_long['score'] >= score_lower_bound)\n",
    "].reset_index(drop=True)\n",
    "\n",
    "print(df_most_common.shape)\n",
    "df_most_common.head()"
   ]
  },
  {
   "cell_type": "markdown",
   "metadata": {},
   "source": [
    "---\n",
    "### As a Network...\n",
    "\n",
    "Start simple, let us just make a `Graph` for now..."
   ]
  },
  {
   "cell_type": "code",
   "execution_count": null,
   "metadata": {},
   "outputs": [],
   "source": [
    "KG = nx.Graph()"
   ]
  },
  {
   "cell_type": "markdown",
   "metadata": {},
   "source": [
    "These edges could be considered as directed, and the edge label being `is_symptom_of` or `has_symptom` depending on the direction"
   ]
  },
  {
   "cell_type": "code",
   "execution_count": null,
   "metadata": {},
   "outputs": [],
   "source": [
    "KG.add_nodes_from(df_most_common['disease'].unique(), node_type='disease')\n",
    "KG.add_nodes_from(df_most_common['symptom'].unique(), node_type='symptom')\n",
    "\n",
    "KG.add_weighted_edges_from(\n",
    "    list(\n",
    "        df_most_common[['disease', 'symptom', 'score']].to_records(index=False)\n",
    "    ), weight='weight',\n",
    ")\n",
    "\n",
    "print(len(KG.nodes))\n",
    "print(len(KG.edges))"
   ]
  },
  {
   "cell_type": "code",
   "execution_count": null,
   "metadata": {},
   "outputs": [],
   "source": [
    "# Let's have a look at our network\n",
    "fig, ax = plt.subplots(figsize=(12, 12))\n",
    "\n",
    "groups = set(nx.get_node_attributes(KG, 'node_type').values())\n",
    "mapping = dict(zip(sorted(groups), count()))\n",
    "nodes = KG.nodes()\n",
    "colors = [mapping[KG.nodes[n]['node_type']] for n in nodes]\n",
    "\n",
    "# Make position for layout\n",
    "pos = nx.spring_layout(\n",
    "    KG, \n",
    "    iterations=50,\n",
    "    k=0.3\n",
    ")\n",
    "\n",
    "# drawing nodes, edges, and labels separately so we can capture collection for colobar\n",
    "ec = nx.draw_networkx_edges(\n",
    "    KG, \n",
    "    pos, \n",
    "    alpha=0.5\n",
    ")\n",
    "\n",
    "nc = nx.draw_networkx_nodes(\n",
    "    KG, \n",
    "    pos, \n",
    "    nodelist=nodes, \n",
    "    node_color=colors,\n",
    "    node_size=40, \n",
    "    cmap=plt.cm.jet\n",
    ")\n",
    "\n",
    "lb = nx.draw_networkx_labels(\n",
    "    KG, \n",
    "    pos,\n",
    "    verticalalignment='bottom'\n",
    ")\n",
    "\n",
    "plt.show()"
   ]
  },
  {
   "cell_type": "markdown",
   "metadata": {},
   "source": [
    "---\n",
    "### A *better* way of visualising this network is to make it interactive\n",
    "\n",
    "Try moving a point around and see what happens!\n",
    "\n",
    "To do this we use a package called `pyvis` - there are a number of other packages that can do this as well\n",
    "\n",
    "https://pyvis.readthedocs.io/en/latest/index.html"
   ]
  },
  {
   "cell_type": "code",
   "execution_count": null,
   "metadata": {},
   "outputs": [],
   "source": [
    "nt = Network('600px', width='80%', notebook=True)\n",
    "nt.from_nx(KG)\n",
    "nt.toggle_physics(True)\n",
    "nt.show_buttons(filter_=['physics'])\n",
    "nt.show('nx.html')\n",
    "\n",
    "# Required for Colab\n",
    "display(HTML('nx.html'))"
   ]
  },
  {
   "cell_type": "markdown",
   "metadata": {},
   "source": [
    "Some settings to be aware of for above:\n",
    "- `gravitationalConstant` = -2000\n",
    "- `springConstant` = 0.04\n",
    "- `springLength` = 95"
   ]
  },
  {
   "cell_type": "markdown",
   "metadata": {},
   "source": [
    "### Exercise 3\n",
    "\n",
    "What happens to the complexity of the graph if you change the `score_lower_bound`?"
   ]
  },
  {
   "cell_type": "markdown",
   "metadata": {},
   "source": [
    "---\n",
    "## A limited selection of other things you can do in `networkx` with graphs"
   ]
  },
  {
   "cell_type": "markdown",
   "metadata": {},
   "source": [
    "### Connected Components\n",
    "\n",
    "We can find out how many connected components our graph has (or disconnected if you prefer to think about it that way)\n",
    "\n",
    "https://networkx.org/documentation/stable/reference/algorithms/component.html"
   ]
  },
  {
   "cell_type": "code",
   "execution_count": null,
   "metadata": {
    "scrolled": false
   },
   "outputs": [],
   "source": [
    "len(list(nx.connected_components(KG)))"
   ]
  },
  {
   "cell_type": "markdown",
   "metadata": {},
   "source": [
    "---\n",
    "### Node Degree and Degree Centrality\n",
    "\n",
    "We can understand a `nodes` influence in our network by focusing on the `degrees` of the `nodes` in our network: \n",
    "\n",
    "- The `degree` measures how many other `nodes` are connected to a given `node` \n",
    "\n",
    "- The `degree centrality` is then the fraction of `nodes` a given `node` is connected to in the graph\n",
    "\n",
    "https://networkx.org/documentation/stable/reference/algorithms/generated/networkx.algorithms.centrality.degree_centrality.html"
   ]
  },
  {
   "cell_type": "code",
   "execution_count": null,
   "metadata": {},
   "outputs": [],
   "source": [
    "KG.degree('pain')"
   ]
  },
  {
   "cell_type": "code",
   "execution_count": null,
   "metadata": {},
   "outputs": [],
   "source": [
    "KG.degree('headache')"
   ]
  },
  {
   "cell_type": "code",
   "execution_count": null,
   "metadata": {
    "scrolled": true
   },
   "outputs": [],
   "source": [
    "nx.degree_centrality(KG)"
   ]
  },
  {
   "cell_type": "code",
   "execution_count": null,
   "metadata": {},
   "outputs": [],
   "source": [
    "nx.degree_centrality(KG)['pain']"
   ]
  },
  {
   "cell_type": "code",
   "execution_count": null,
   "metadata": {},
   "outputs": [],
   "source": [
    "nx.degree_centrality(KG)['headache']"
   ]
  },
  {
   "cell_type": "markdown",
   "metadata": {},
   "source": [
    "---\n",
    "### Paths\n",
    "\n",
    "We can investigate paths between `nodes` using `networkx` - here we can see which parts of our KG are well connected, or more isolated from other parts\n",
    "\n",
    "https://networkx.org/documentation/stable/reference/algorithms/simple_paths.html\n",
    "\n",
    "https://networkx.org/documentation/stable/reference/algorithms/shortest_paths.html"
   ]
  },
  {
   "cell_type": "code",
   "execution_count": null,
   "metadata": {
    "scrolled": true
   },
   "outputs": [],
   "source": [
    "len([path for path in nx.all_simple_paths(KG, 'back pain', 'abdominal pain')])"
   ]
  },
  {
   "cell_type": "code",
   "execution_count": null,
   "metadata": {},
   "outputs": [],
   "source": [
    "nx.shortest_path(KG, 'back pain', 'abdominal pain')"
   ]
  },
  {
   "cell_type": "code",
   "execution_count": null,
   "metadata": {},
   "outputs": [],
   "source": [
    "nx.shortest_path_length(KG, 'back pain', 'abdominal pain')"
   ]
  },
  {
   "cell_type": "markdown",
   "metadata": {},
   "source": [
    "### Final Exercise\n",
    "\n",
    "Have a look in the `networkx` documentation and find how to include the `scores` (here treated as `weights`) in our `shortest_path_length` calculations.\n",
    "\n",
    "- How does this change the results from above?\n",
    "- Try looking at other paths within your network and see what you find\n",
    "- Try decreasing `score_lower_bound` a little and explore how this changes the paths/degree/connection calculations"
   ]
  },
  {
   "cell_type": "code",
   "execution_count": null,
   "metadata": {},
   "outputs": [],
   "source": [
    "### Solution Here\n",
    "#\n",
    "#"
   ]
  },
  {
   "cell_type": "markdown",
   "metadata": {},
   "source": [
    "---\n",
    "---\n",
    "## Some other resources:\n",
    "There are loads of great things you can do with networks, here are a few things to check out:\n",
    "\n",
    "- https://github.com/briatte/awesome-network-analysis - lots of other network analysis approaches in a variety of different programming languages\n",
    "- https://github.com/gboeing/osmnx - great package using `OpenStreetMap` data and `networkx` for analysis\n",
    "- https://epidemicsonnetworks.readthedocs.io/en/latest/EoN.html - `EoN` a python package looking at epidemics on networks \n",
    "- https://distill.pub/2021/gnn-intro/ - a very nice introduction to Graph Neural Networks "
   ]
  },
  {
   "cell_type": "code",
   "execution_count": null,
   "metadata": {},
   "outputs": [],
   "source": []
  }
 ],
 "metadata": {
  "kernelspec": {
   "display_name": "Python 3",
   "language": "python",
   "name": "python3"
  },
  "language_info": {
   "codemirror_mode": {
    "name": "ipython",
    "version": 3
   },
   "file_extension": ".py",
   "mimetype": "text/x-python",
   "name": "python",
   "nbconvert_exporter": "python",
   "pygments_lexer": "ipython3",
   "version": "3.9.10 (main, Mar  9 2022, 20:27:56) \n[Clang 13.0.0 (clang-1300.0.29.30)]"
  },
  "vscode": {
   "interpreter": {
    "hash": "70a703afd2ea37a8e881037d159474ccbbf41a2efff24854dc382a2b82dfe829"
   }
  }
 },
 "nbformat": 4,
 "nbformat_minor": 4
}
